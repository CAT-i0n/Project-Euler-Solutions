{
 "cells": [
  {
   "cell_type": "markdown",
   "metadata": {},
   "source": [
    "PROJECT EULER TASKS"
   ]
  },
  {
   "cell_type": "code",
   "execution_count": 14,
   "metadata": {},
   "outputs": [
    {
     "name": "stdout",
     "output_type": "stream",
     "text": [
      "64 16\n",
      "65 26\n",
      "95 19\n",
      "98 49\n"
     ]
    }
   ],
   "source": [
    "#33\n",
    "x = 1\n",
    "y = 1\n",
    "for i in range(10, 100):\n",
    "    for j in range(10, 100):\n",
    "        if i==j:\n",
    "            continue\n",
    "        stri = str(i)\n",
    "        strj = str(j)\n",
    "        pos = strj.find(stri[0])\n",
    "        if pos + 1 and stri[0]!=\"0\" and strj.replace(stri[0],\"\",1)!=\"0\":\n",
    "            if i/j == int(stri[1])/int(strj.replace(stri[0],\"\",1)):\n",
    "                x*=i\n",
    "                y*=j\n",
    "                print(i,j)      "
   ]
  },
  {
   "cell_type": "code",
   "execution_count": 15,
   "metadata": {},
   "outputs": [
    {
     "name": "stdout",
     "output_type": "stream",
     "text": [
      "1\n",
      "2\n",
      "145\n",
      "40585\n"
     ]
    }
   ],
   "source": [
    "#34\n",
    "from math import factorial as f\n",
    "from functools import cache\n",
    "\n",
    "@cache\n",
    "def fact(x):\n",
    "    return f(int(x))\n",
    "\n",
    "for i in range(10000000):\n",
    "    x = sum(map(fact, list(str(i))))\n",
    "    if x == i:\n",
    "        print(i)\n"
   ]
  },
  {
   "cell_type": "code",
   "execution_count": 16,
   "metadata": {},
   "outputs": [
    {
     "name": "stderr",
     "output_type": "stream",
     "text": [
      "100%|██████████| 999997/999997 [00:03<00:00, 306882.16it/s]\n",
      "3217it [00:00, 13952.62it/s]\n"
     ]
    },
    {
     "data": {
      "text/plain": [
       "54"
      ]
     },
     "execution_count": 16,
     "metadata": {},
     "output_type": "execute_result"
    }
   ],
   "source": [
    "#35\n",
    "import re\n",
    "from tqdm import tqdm\n",
    "primes = [2]\n",
    "for i in tqdm(range(3, 1000000)):\n",
    "    for j in primes:\n",
    "        if i%j==0:\n",
    "            break\n",
    "        if j>i**0.5:\n",
    "            primes.append(i)\n",
    "            break\n",
    "primes = [i for i in primes if not re.findall('2|4|6|8|0', str(i))]\n",
    "rez = []\n",
    "for i,j in tqdm(enumerate(primes)):\n",
    "    for k in range(len(str(j))):\n",
    "        if int(str(j)[k:] + str(j)[:k]) not in primes:\n",
    "            break\n",
    "        if k == len(str(j))-1:\n",
    "            rez.append(j)\n",
    "len(rez)\n",
    "        "
   ]
  },
  {
   "cell_type": "code",
   "execution_count": 17,
   "metadata": {},
   "outputs": [
    {
     "name": "stdout",
     "output_type": "stream",
     "text": [
      "[0, 1, 3, 5, 7, 9, 33, 99, 313, 585, 717, 7447, 9009, 15351, 32223, 39993, 53235, 53835, 73737, 585585]\n"
     ]
    },
    {
     "data": {
      "text/plain": [
       "872187"
      ]
     },
     "execution_count": 17,
     "metadata": {},
     "output_type": "execute_result"
    }
   ],
   "source": [
    "#36\n",
    "x = []\n",
    "for i in range(0, 1000000):\n",
    "    b = bin(i)[2:]\n",
    "    if str(i) == \"\".join(reversed(str(i))) and b == \"\".join(reversed(b)):\n",
    "        x.append(i)\n",
    "print(x)\n",
    "sum(x)"
   ]
  },
  {
   "cell_type": "code",
   "execution_count": 18,
   "metadata": {},
   "outputs": [
    {
     "name": "stderr",
     "output_type": "stream",
     "text": [
      "100%|██████████| 998/998 [00:00<00:00, 2430.56it/s]\n"
     ]
    },
    {
     "data": {
      "text/plain": [
       "748317"
      ]
     },
     "execution_count": 18,
     "metadata": {},
     "output_type": "execute_result"
    }
   ],
   "source": [
    "#37\n",
    "import re\n",
    "from tqdm import tqdm\n",
    "size = 1000000\n",
    "x = [True]*size\n",
    "for i in tqdm(range(2, int(size**0.5))):\n",
    "    if x[i]:\n",
    "        j = i**2\n",
    "        while j<size:\n",
    "            x[j] = False\n",
    "            j+=i\n",
    "primes = [i for i,j in enumerate(x) if j][2:]\n",
    "primes = [i for i in primes if not re.findall('4|6|8|0', str(i))]\n",
    "rez = []\n",
    "for i,j in enumerate(primes):\n",
    "    for k in range(1, len(str(j))):\n",
    "        if int(str(j)[k:]) not in primes or int(str(j)[:k]) not in primes:   \n",
    "            break\n",
    "        if k == len(str(j))-1:\n",
    "            rez.append(j)\n",
    "sum(rez)"
   ]
  },
  {
   "cell_type": "code",
   "execution_count": 19,
   "metadata": {},
   "outputs": [
    {
     "data": {
      "text/plain": [
       "932718654"
      ]
     },
     "execution_count": 19,
     "metadata": {},
     "output_type": "execute_result"
    }
   ],
   "source": [
    "#38\n",
    "9327, 18654\n",
    "932718654"
   ]
  },
  {
   "cell_type": "code",
   "execution_count": 20,
   "metadata": {},
   "outputs": [
    {
     "name": "stdout",
     "output_type": "stream",
     "text": [
      "[(660.0, 10), (1080.0, 10), (1008.0, 10), (720.0, 12), (840.0, 16)]\n"
     ]
    }
   ],
   "source": [
    "#39\n",
    "from collections import Counter\n",
    "sums = []\n",
    "for i in range(1, 500):\n",
    "    for j in range(1, 500):\n",
    "        c = (i**2+j**2)**0.5\n",
    "        if c == int(c):\n",
    "            sums.append(i+j+c)\n",
    "print(sorted(list(Counter(sums).items()), key = lambda x: x[1])[-5:])"
   ]
  },
  {
   "cell_type": "code",
   "execution_count": 21,
   "metadata": {},
   "outputs": [
    {
     "name": "stdout",
     "output_type": "stream",
     "text": [
      "2 2 10\n",
      "11 10 100\n",
      "101 55 1000\n",
      "1002 370 10000\n",
      "10001 2777 100000\n",
      "100004 22222 1000000\n"
     ]
    }
   ],
   "source": [
    "#40\n",
    "p = 1\n",
    "pow = 0\n",
    "s = 0\n",
    "for i in range(1, 100000):\n",
    "    s+=len(str(i))\n",
    "    if 10**pow<s:\n",
    "        pow+=1\n",
    "        print(s, i, 10**pow)\n"
   ]
  },
  {
   "cell_type": "code",
   "execution_count": 22,
   "metadata": {},
   "outputs": [
    {
     "name": "stdout",
     "output_type": "stream",
     "text": [
      "7652413\n"
     ]
    }
   ],
   "source": [
    "#41\n",
    "from itertools import permutations\n",
    "perms = list(map(lambda x: int(\"\".join([str(i) for i in x])), list(permutations(range(1, 8)))))\n",
    "primes = []\n",
    "for i in perms:\n",
    "    for j in range(2, int(i**0.5)):\n",
    "        if i%j==0:\n",
    "            break\n",
    "        if j==int(i**0.5)-1:\n",
    "            primes.append(i)\n",
    "print(max(primes))\n"
   ]
  },
  {
   "cell_type": "code",
   "execution_count": null,
   "metadata": {},
   "outputs": [
    {
     "name": "stdout",
     "output_type": "stream",
     "text": [
      "162\n"
     ]
    }
   ],
   "source": [
    "#42\n",
    "words = open('files/0042_words.txt').read().split(',')\n",
    "words = [i[1:-1] for i in words]\n",
    "words = [sum([ord(j)&31 for j in i]) for i in words]\n",
    "print(sum([i==(int((i<<3|1)**0.5)**2-1)>>3 for i in words]))"
   ]
  },
  {
   "cell_type": "code",
   "execution_count": null,
   "metadata": {},
   "outputs": [
    {
     "data": {
      "text/plain": [
       "16695334890"
      ]
     },
     "execution_count": 24,
     "metadata": {},
     "output_type": "execute_result"
    }
   ],
   "source": [
    "#43\n",
    "from itertools import permutations\n",
    "rez = []\n",
    "all = list(permutations(map(str, range(10))))\n",
    "div = [1,2,3,5,7,11,13,17]\n",
    "for num in all:\n",
    "    for i,j in enumerate(reversed(div)):\n",
    "        if int(\"\".join(num[-i-3:-i or None])) % j != 0:\n",
    "            break\n",
    "        if i == len(div)-1:\n",
    "            rez.append(int(\"\".join(num)))\n",
    "sum(rez)\n",
    "# add more conditions to check divisibility"
   ]
  },
  {
   "cell_type": "code",
   "execution_count": 25,
   "metadata": {},
   "outputs": [
    {
     "data": {
      "text/plain": [
       "5482660.0"
      ]
     },
     "execution_count": 25,
     "metadata": {},
     "output_type": "execute_result"
    }
   ],
   "source": [
    "#44\n",
    "size = 3000\n",
    "\n",
    "#доработать\n",
    "sums = set()\n",
    "diffs = set()\n",
    "for n in range(1, size):\n",
    "    for k in range(1, size):\n",
    "        j = (1 + (1+12*(6*k*n+k*(3*k-1)))**0.5)/6\n",
    "        if j == int(j):\n",
    "            sums.add((n,j))\n",
    "            diffs.add((n+k,j))\n",
    "            diffs.add((n+k, n))\n",
    "rez = set.intersection(diffs, sums).pop()\n",
    "max(rez)*(3*max(rez)-1)/2 - min(rez)*(3*min(rez)-1)/2"
   ]
  },
  {
   "cell_type": "code",
   "execution_count": 26,
   "metadata": {},
   "outputs": [
    {
     "name": "stdout",
     "output_type": "stream",
     "text": [
      "0.026916027069091797\n",
      "1533776805\n"
     ]
    }
   ],
   "source": [
    "#45\n",
    "from time import time\n",
    "from math import sqrt\n",
    "start = time()\n",
    "is_pent_hex = lambda x: ((sqrt(3*(4*x-1)**2-2)+1)/6).is_integer()\n",
    "i = 144\n",
    "while not is_pent_hex(i):\n",
    "    i+=1\n",
    "print(time() - start)\n",
    "print(i*(2*i-1))"
   ]
  },
  {
   "cell_type": "code",
   "execution_count": 27,
   "metadata": {},
   "outputs": [
    {
     "name": "stderr",
     "output_type": "stream",
     "text": [
      "100%|██████████| 9997/9997 [00:00<00:00, 505460.27it/s]\n"
     ]
    },
    {
     "name": "stdout",
     "output_type": "stream",
     "text": [
      "5779\n"
     ]
    }
   ],
   "source": [
    "#46\n",
    "from tqdm import tqdm\n",
    "primes = [2]\n",
    "for i in tqdm(range(3, 10000)):\n",
    "    for j in primes:\n",
    "        if i%j==0:\n",
    "            break\n",
    "        if j>i**0.5:\n",
    "            primes.append(i)\n",
    "            break\n",
    "\n",
    "nums = set()\n",
    "for i in primes[1:]:\n",
    "    for j in range(1, 1000):\n",
    "        nums.add(i+2*j**2)\n",
    "\n",
    "nums = sorted(list(nums))\n",
    "for i, j in enumerate(nums):\n",
    "    if i==0:\n",
    "        continue\n",
    "    if j != nums[i-1] + 2 and j-2 not in primes:\n",
    "        print(j)\n",
    "        break"
   ]
  },
  {
   "cell_type": "markdown",
   "metadata": {},
   "source": []
  },
  {
   "cell_type": "code",
   "execution_count": 28,
   "metadata": {},
   "outputs": [
    {
     "name": "stderr",
     "output_type": "stream",
     "text": [
      "100%|██████████| 999997/999997 [00:03<00:00, 302967.06it/s]\n"
     ]
    },
    {
     "name": "stdout",
     "output_type": "stream",
     "text": [
      "134046\n"
     ]
    }
   ],
   "source": [
    "#47\n",
    "from tqdm import tqdm\n",
    "\n",
    "primes = [2]\n",
    "for i in tqdm(range(3, 1000000)):\n",
    "    for j in primes:\n",
    "        if i%j==0:\n",
    "            break\n",
    "        if j>i**0.5:\n",
    "            primes.append(i)\n",
    "            break\n",
    "\n",
    "def factorize(x):\n",
    "    rez = set()\n",
    "    i=0\n",
    "    while x!=1:\n",
    "        if not x%primes[i]:\n",
    "            x//=primes[i]\n",
    "            rez.add(primes[i])\n",
    "        else:\n",
    "            i+=1\n",
    "    return rez\n",
    "\n",
    "n = 0\n",
    "for i in range(16, 1000000):\n",
    "    if len(factorize(i))==4:\n",
    "        n+=1\n",
    "    else:\n",
    "        n=0\n",
    "    if n==4:\n",
    "        print(i)\n",
    "        break"
   ]
  },
  {
   "cell_type": "code",
   "execution_count": 29,
   "metadata": {},
   "outputs": [
    {
     "name": "stderr",
     "output_type": "stream",
     "text": [
      "  0%|          | 0/9997 [00:00<?, ?it/s]"
     ]
    },
    {
     "name": "stderr",
     "output_type": "stream",
     "text": [
      "100%|██████████| 9997/9997 [00:00<00:00, 367762.64it/s]"
     ]
    },
    {
     "name": "stdout",
     "output_type": "stream",
     "text": [
      "1487 4817 8147\n"
     ]
    },
    {
     "name": "stderr",
     "output_type": "stream",
     "text": [
      "\n"
     ]
    },
    {
     "name": "stdout",
     "output_type": "stream",
     "text": [
      "1487 4817 8147\n",
      "2969 6299 9629\n",
      "2969 6299 9629\n",
      "1487 4817 8147\n",
      "1487 4817 8147\n",
      "2969 6299 9629\n",
      "1487 4817 8147\n",
      "1487 4817 8147\n",
      "1487 4817 8147\n",
      "1487 4817 8147\n",
      "2969 6299 9629\n"
     ]
    }
   ],
   "source": [
    "#49\n",
    "from tqdm import tqdm\n",
    "from itertools import permutations\n",
    "\n",
    "primes = [2]\n",
    "for i in tqdm(range(3, 10000)):\n",
    "    for j in primes:\n",
    "        if i%j==0:\n",
    "            break\n",
    "        if j>i**0.5:\n",
    "            primes.append(i)\n",
    "            break\n",
    "\n",
    "primes = [i for i in primes if i>1000]\n",
    "all = set()\n",
    "\n",
    "for i in primes:\n",
    "    if i in all:\n",
    "        continue\n",
    "    p = set(map(lambda x: int(\"\".join(x)), permutations(str(i), 4)))\n",
    "    p = sorted([j for j in p if j in primes])\n",
    "    for j in p:\n",
    "        for k in p:\n",
    "            if k>j:\n",
    "                if 2*k-j in p:\n",
    "                    print(j, k, 2*k-j) "
   ]
  },
  {
   "cell_type": "code",
   "execution_count": 30,
   "metadata": {},
   "outputs": [
    {
     "name": "stderr",
     "output_type": "stream",
     "text": [
      "  0%|          | 0/999997 [00:00<?, ?it/s]"
     ]
    },
    {
     "name": "stderr",
     "output_type": "stream",
     "text": [
      "100%|██████████| 999997/999997 [00:03<00:00, 312874.41it/s]"
     ]
    },
    {
     "name": "stdout",
     "output_type": "stream",
     "text": [
      "prime - 997651, len - 543\n",
      "[7, 11, 13, 17, 19, 23, 29, 31, 37, 41, 43, 47, 53, 59, 61, 67, 71, 73, 79, 83, 89, 97, 101, 103, 107, 109, 113, 127, 131, 137, 139, 149, 151, 157, 163, 167, 173, 179, 181, 191, 193, 197, 199, 211, 223, 227, 229, 233, 239, 241, 251, 257, 263, 269, 271, 277, 281, 283, 293, 307, 311, 313, 317, 331, 337, 347, 349, 353, 359, 367, 373, 379, 383, 389, 397, 401, 409, 419, 421, 431, 433, 439, 443, 449, 457, 461, 463, 467, 479, 487, 491, 499, 503, 509, 521, 523, 541, 547, 557, 563, 569, 571, 577, 587, 593, 599, 601, 607, 613, 617, 619, 631, 641, 643, 647, 653, 659, 661, 673, 677, 683, 691, 701, 709, 719, 727, 733, 739, 743, 751, 757, 761, 769, 773, 787, 797, 809, 811, 821, 823, 827, 829, 839, 853, 857, 859, 863, 877, 881, 883, 887, 907, 911, 919, 929, 937, 941, 947, 953, 967, 971, 977, 983, 991, 997, 1009, 1013, 1019, 1021, 1031, 1033, 1039, 1049, 1051, 1061, 1063, 1069, 1087, 1091, 1093, 1097, 1103, 1109, 1117, 1123, 1129, 1151, 1153, 1163, 1171, 1181, 1187, 1193, 1201, 1213, 1217, 1223, 1229, 1231, 1237, 1249, 1259, 1277, 1279, 1283, 1289, 1291, 1297, 1301, 1303, 1307, 1319, 1321, 1327, 1361, 1367, 1373, 1381, 1399, 1409, 1423, 1427, 1429, 1433, 1439, 1447, 1451, 1453, 1459, 1471, 1481, 1483, 1487, 1489, 1493, 1499, 1511, 1523, 1531, 1543, 1549, 1553, 1559, 1567, 1571, 1579, 1583, 1597, 1601, 1607, 1609, 1613, 1619, 1621, 1627, 1637, 1657, 1663, 1667, 1669, 1693, 1697, 1699, 1709, 1721, 1723, 1733, 1741, 1747, 1753, 1759, 1777, 1783, 1787, 1789, 1801, 1811, 1823, 1831, 1847, 1861, 1867, 1871, 1873, 1877, 1879, 1889, 1901, 1907, 1913, 1931, 1933, 1949, 1951, 1973, 1979, 1987, 1993, 1997, 1999, 2003, 2011, 2017, 2027, 2029, 2039, 2053, 2063, 2069, 2081, 2083, 2087, 2089, 2099, 2111, 2113, 2129, 2131, 2137, 2141, 2143, 2153, 2161, 2179, 2203, 2207, 2213, 2221, 2237, 2239, 2243, 2251, 2267, 2269, 2273, 2281, 2287, 2293, 2297, 2309, 2311, 2333, 2339, 2341, 2347, 2351, 2357, 2371, 2377, 2381, 2383, 2389, 2393, 2399, 2411, 2417, 2423, 2437, 2441, 2447, 2459, 2467, 2473, 2477, 2503, 2521, 2531, 2539, 2543, 2549, 2551, 2557, 2579, 2591, 2593, 2609, 2617, 2621, 2633, 2647, 2657, 2659, 2663, 2671, 2677, 2683, 2687, 2689, 2693, 2699, 2707, 2711, 2713, 2719, 2729, 2731, 2741, 2749, 2753, 2767, 2777, 2789, 2791, 2797, 2801, 2803, 2819, 2833, 2837, 2843, 2851, 2857, 2861, 2879, 2887, 2897, 2903, 2909, 2917, 2927, 2939, 2953, 2957, 2963, 2969, 2971, 2999, 3001, 3011, 3019, 3023, 3037, 3041, 3049, 3061, 3067, 3079, 3083, 3089, 3109, 3119, 3121, 3137, 3163, 3167, 3169, 3181, 3187, 3191, 3203, 3209, 3217, 3221, 3229, 3251, 3253, 3257, 3259, 3271, 3299, 3301, 3307, 3313, 3319, 3323, 3329, 3331, 3343, 3347, 3359, 3361, 3371, 3373, 3389, 3391, 3407, 3413, 3433, 3449, 3457, 3461, 3463, 3467, 3469, 3491, 3499, 3511, 3517, 3527, 3529, 3533, 3539, 3541, 3547, 3557, 3559, 3571, 3581, 3583, 3593, 3607, 3613, 3617, 3623, 3631, 3637, 3643, 3659, 3671, 3673, 3677, 3691, 3697, 3701, 3709, 3719, 3727, 3733, 3739, 3761, 3767, 3769, 3779, 3793, 3797, 3803, 3821, 3823, 3833, 3847, 3851, 3853, 3863, 3877, 3881, 3889, 3907, 3911, 3917, 3919, 3923, 3929, 3931]\n"
     ]
    },
    {
     "name": "stderr",
     "output_type": "stream",
     "text": [
      "\n"
     ]
    }
   ],
   "source": [
    "#50\n",
    "primes = [2]\n",
    "for i in tqdm(range(3, 1000000)):\n",
    "    for j in primes:\n",
    "        if i%j==0:\n",
    "            break\n",
    "        if j>i**0.5:\n",
    "            primes.append(i)\n",
    "            break\n",
    "is_prime = lambda x: x in primes\n",
    "\n",
    "sums = []\n",
    "try:\n",
    "    for seq_len in range(1000, 21, -1):\n",
    "        for prime_index in range(len(primes)):\n",
    "            if prime_index >= len(sums):\n",
    "                seq_primes_sum = sum(primes[prime_index: prime_index+seq_len])\n",
    "                if seq_primes_sum>1000000:\n",
    "                    break\n",
    "                else:\n",
    "                    sums.append(seq_primes_sum)\n",
    "            else:\n",
    "                sums[prime_index] -= primes[prime_index+seq_len+1]\n",
    "            if is_prime(sums[prime_index]):\n",
    "                print(f\"prime - {sums[prime_index]}, len - {seq_len}\")\n",
    "                print(primes[prime_index:prime_index+seq_len])\n",
    "                raise\n",
    "except:\n",
    "    pass"
   ]
  }
 ],
 "metadata": {
  "kernelspec": {
   "display_name": "common",
   "language": "python",
   "name": "python3"
  },
  "language_info": {
   "codemirror_mode": {
    "name": "ipython",
    "version": 3
   },
   "file_extension": ".py",
   "mimetype": "text/x-python",
   "name": "python",
   "nbconvert_exporter": "python",
   "pygments_lexer": "ipython3",
   "version": "3.10.14"
  },
  "orig_nbformat": 4
 },
 "nbformat": 4,
 "nbformat_minor": 2
}
