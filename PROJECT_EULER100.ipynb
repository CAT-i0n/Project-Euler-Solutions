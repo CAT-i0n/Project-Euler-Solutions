{
 "cells": [
  {
   "cell_type": "code",
   "execution_count": 4,
   "metadata": {},
   "outputs": [
    {
     "name": "stderr",
     "output_type": "stream",
     "text": [
      "100%|██████████| 999997/999997 [00:03<00:00, 294020.18it/s]\n"
     ]
    },
    {
     "name": "stdout",
     "output_type": "stream",
     "text": [
      "121313\n"
     ]
    }
   ],
   "source": [
    "# 51\n",
    "from functools import cache\n",
    "from tqdm import tqdm\n",
    "\n",
    "primes = [2]\n",
    "for i in tqdm(range(3, 1000000)):\n",
    "    for j in primes:\n",
    "        if i % j == 0:\n",
    "            break\n",
    "        if j > i**0.5:\n",
    "            primes.append(i)\n",
    "            break\n",
    "\n",
    "str_primes = [str(p) for p in primes if 1000000 > p > 100000]\n",
    "\n",
    "\n",
    "class PrefixTree:\n",
    "    def __init__(self):\n",
    "        self.childs: dict = {str(i): None for i in range(10)}\n",
    "        self.is_leaf = False\n",
    "        self.string = None\n",
    "\n",
    "    def build(self, strings, order=0):\n",
    "        if len(strings) == 1:\n",
    "            self.is_leaf = True\n",
    "            self.string = strings[0]\n",
    "            return self\n",
    "        else:\n",
    "            by_number = {str(i): [] for i in range(10)}\n",
    "            for string in strings:\n",
    "                by_number[string[order]].append(string)\n",
    "            for key in by_number:\n",
    "                if by_number[key]:\n",
    "                    self.childs[key] = PrefixTree().build(\n",
    "                        by_number[key], order+1)\n",
    "        return self\n",
    "\n",
    "    @cache\n",
    "    def search(self, pattern: str):\n",
    "        rez = []\n",
    "        if self.is_leaf:\n",
    "            if self.string[-len(pattern):] == pattern or len(pattern) == 0:\n",
    "                return [self.string]\n",
    "            else:\n",
    "                return []\n",
    "        if len(pattern) == 0:\n",
    "            return []\n",
    "        if pattern[0] == \"x\":\n",
    "            for sub_tree_key in self.childs:\n",
    "                if not self.childs[sub_tree_key] is None:\n",
    "                    rez += (self.childs[sub_tree_key].search(\n",
    "                        pattern[1:].replace(\"x\", sub_tree_key)))\n",
    "        else:\n",
    "            if not self.childs[pattern[0]] is None:\n",
    "                rez += (self.childs[pattern[0]].search(pattern[1:]))\n",
    "        return rez\n",
    "\n",
    "\n",
    "t = PrefixTree().build(str_primes)\n",
    "max_seq = []\n",
    "for i in str_primes:\n",
    "    for n in range(5):\n",
    "        for m in range(5):\n",
    "            for k in range(5):\n",
    "                if n > m > k:\n",
    "                    s_str = i[:n] + 'x' + i[n+1:]\n",
    "                    s_str = s_str[:m] + 'x' + s_str[m+1:]\n",
    "                    s_str = s_str[:k] + 'x' + s_str[k+1:]\n",
    "                    rez = t.search(s_str)\n",
    "                    if len(rez) > len(max_seq):\n",
    "                        max_seq = rez\n",
    "print(max_seq[0])"
   ]
  },
  {
   "cell_type": "code",
   "execution_count": 5,
   "metadata": {},
   "outputs": [
    {
     "name": "stdout",
     "output_type": "stream",
     "text": [
      "142857\n"
     ]
    }
   ],
   "source": [
    "# 52\n",
    "for i in range(1, 200000):\n",
    "    nums = []\n",
    "    for j in range(2, 7):\n",
    "        nums.append(set(str(i*j)))\n",
    "    if all([i == nums[0] for i in nums]):\n",
    "        print(i)"
   ]
  },
  {
   "cell_type": "code",
   "execution_count": null,
   "metadata": {},
   "outputs": [
    {
     "data": {
      "text/plain": [
       "4075"
      ]
     },
     "execution_count": 7,
     "metadata": {},
     "output_type": "execute_result"
    }
   ],
   "source": [
    "# 53\n",
    "\n",
    "from math import factorial as f\n",
    "s = 0\n",
    "for i in range(10, 101):\n",
    "    for j in range(0, i):\n",
    "        if f(i)/f(j)/f(i-j) > 10**6:\n",
    "            s += 1\n",
    "s"
   ]
  },
  {
   "cell_type": "code",
   "execution_count": 6,
   "metadata": {},
   "outputs": [
    {
     "name": "stdout",
     "output_type": "stream",
     "text": [
      "376\n"
     ]
    }
   ],
   "source": [
    "# 54\n",
    "\n",
    "from collections import Counter\n",
    "import bisect\n",
    "\n",
    "\n",
    "class Card:\n",
    "    NOT_NUMERIC_RANKS = {'T': 10, 'J': 11, 'Q': 12, 'K': 13, 'A': 14}\n",
    "\n",
    "    def __init__(self, card):\n",
    "        self.suit = card[1]\n",
    "        self.rank = int(\n",
    "            card[0]) if card[0] in '23456789' else Card.NOT_NUMERIC_RANKS[card[0]]\n",
    "\n",
    "\n",
    "class PokerHand:\n",
    "\n",
    "    def __init__(self, hand):\n",
    "        self.cards = sorted([Card(card) for card in hand], key=lambda x: x.rank)\n",
    "        self.cards_ranks_count = dict()\n",
    "        for i, j in Counter(card.rank for card in self.cards).items():\n",
    "            if self.cards_ranks_count.get(j):\n",
    "                bisect.insort(\n",
    "                    self.cards_ranks_count[j], i, key=lambda x: -1 * x)\n",
    "            else:\n",
    "                self.cards_ranks_count[j] = [i]\n",
    "        self.combination = None\n",
    "        self.combination_cards = list()\n",
    "        self.other_cards = list()\n",
    "        self._check_combination()\n",
    "\n",
    "    def _check_combination(self):\n",
    "        def isStraighFlush():\n",
    "            if isFlush() and isStraight():\n",
    "                return 8\n",
    "\n",
    "        def isFour():\n",
    "            if self.cards_ranks_count.get(4):\n",
    "                self.combination_cards = self.cards_ranks_count[4]\n",
    "                self.other_cards = self.cards_ranks_count[1]\n",
    "                return 7\n",
    "\n",
    "        def isFullHouse():\n",
    "            if self.cards_ranks_count.get(3) and self.cards_ranks_count.get(2):\n",
    "                self.combination_cards = self.cards_ranks_count[3] + \\\n",
    "                    self.cards_ranks_count[2]\n",
    "                return 6\n",
    "\n",
    "        def isFlush():\n",
    "            if len(set(card.suit for card in self.cards)) == 1:\n",
    "                self.combination_cards = self.cards_ranks_count[1]\n",
    "                return 5\n",
    "\n",
    "        def isStraight():\n",
    "            if (len(self.cards_ranks_count.get(1, [])) == 5 and all(self.cards[i+1].rank - self.cards[i].rank == 1 for i in range(4)) or\n",
    "                    self.cards_ranks_count.get(1) == [2, 3, 4, 5, 14]):\n",
    "                self.combination_cards = self.cards_ranks_count[1]\n",
    "                return 4\n",
    "\n",
    "        def isThree():\n",
    "            if self.cards_ranks_count.get(3):\n",
    "                self.combination_cards = self.cards_ranks_count[3]\n",
    "                self.other_cards = self.cards_ranks_count[1]\n",
    "                return 3\n",
    "\n",
    "        def isTwoTwo():\n",
    "            if len(self.cards_ranks_count.get(2, [])) == 2:\n",
    "                self.combination_cards = self.cards_ranks_count[2]\n",
    "                self.other_cards = self.cards_ranks_count[1]\n",
    "                return 2\n",
    "\n",
    "        def isTwo():\n",
    "            if self.cards_ranks_count.get(2):\n",
    "                self.combination_cards = self.cards_ranks_count[2]\n",
    "                self.other_cards = self.cards_ranks_count[1]\n",
    "                return 1\n",
    "\n",
    "        def isHigh():\n",
    "            self.other_cards = self.cards_ranks_count[1]\n",
    "            return 0\n",
    "\n",
    "        self.combination = isStraighFlush() or \\\n",
    "            isFour() or \\\n",
    "            isFullHouse() or \\\n",
    "            isFlush() or \\\n",
    "            isStraight() or \\\n",
    "            isThree() or \\\n",
    "            isTwoTwo() or \\\n",
    "            isTwo() or \\\n",
    "            isHigh()\n",
    "\n",
    "    def compare(self, other: 'PokerHand'):\n",
    "        if (self.combination, self.combination_cards, self.other_cards) > (other.combination, other.combination_cards, other.other_cards):\n",
    "            return 1\n",
    "        return 0\n",
    "\n",
    "\n",
    "all_hands = open('files/0054_poker.txt', 'r').read().split('\\n')\n",
    "all_hands = [i.split() for i in all_hands]\n",
    "all_hands = [(i[0:5], i[5: 10]) for i in all_hands]\n",
    "\n",
    "win = 0\n",
    "\n",
    "for i, j in all_hands:\n",
    "    win += PokerHand(i).compare(PokerHand(j))\n",
    "print(win)"
   ]
  },
  {
   "cell_type": "code",
   "execution_count": 6,
   "metadata": {},
   "outputs": [
    {
     "data": {
      "text/plain": [
       "972"
      ]
     },
     "execution_count": 6,
     "metadata": {},
     "output_type": "execute_result"
    }
   ],
   "source": [
    "# 55\n",
    "max = 0\n",
    "for i in range(10, 100):\n",
    "    for j in range(10, 100):\n",
    "        csum = sum(map(int, str(i**j)))\n",
    "        if csum > max:\n",
    "            max = csum\n",
    "max"
   ]
  },
  {
   "cell_type": "code",
   "execution_count": null,
   "metadata": {},
   "outputs": [
    {
     "data": {
      "text/plain": [
       "153"
      ]
     },
     "execution_count": 15,
     "metadata": {},
     "output_type": "execute_result"
    }
   ],
   "source": [
    "# 56\n",
    "def euclid(a, b):\n",
    "    while b:\n",
    "        a, b = b, a % b\n",
    "    return a\n",
    "\n",
    "\n",
    "pairs = []\n",
    "x = (1, 2)\n",
    "n = 0\n",
    "\n",
    "for i in range(1, 1000):\n",
    "    to_add = (x[0]+x[1], x[1])\n",
    "    denomenator = euclid(to_add[0], to_add[1])\n",
    "    to_add = (to_add[0]//denomenator, to_add[1]//denomenator)\n",
    "\n",
    "    pairs.append(to_add)\n",
    "    if len(str(pairs[-1][0])) > len(str(pairs[-1][1])):\n",
    "        n += 1\n",
    "    x = (x[1], x[0]+2*x[1])\n",
    "n"
   ]
  },
  {
   "cell_type": "code",
   "execution_count": null,
   "metadata": {},
   "outputs": [
    {
     "name": "stderr",
     "output_type": "stream",
     "text": [
      "100%|██████████| 999997/999997 [00:03<00:00, 283033.26it/s]\n"
     ]
    },
    {
     "data": {
      "text/plain": [
       "26241"
      ]
     },
     "execution_count": 40,
     "metadata": {},
     "output_type": "execute_result"
    }
   ],
   "source": [
    "# 57\n",
    "from numpy import array\n",
    "from tqdm import tqdm\n",
    "diag_nums = array([3, 5, 7])\n",
    "add_nums = array([2, 4, 6])\n",
    "primes = [2]\n",
    "for i in tqdm(range(3, 1000000)):\n",
    "    for j in primes:\n",
    "        if i % j == 0:\n",
    "            break\n",
    "        if j > i**0.5:\n",
    "            primes.append(i)\n",
    "            break\n",
    "\n",
    "\n",
    "def is_prime(n):\n",
    "    sq = n**0.5\n",
    "    for i in primes:\n",
    "        if n % i == 0:\n",
    "            return False\n",
    "        if i > sq:\n",
    "            return True\n",
    "    return True\n",
    "\n",
    "\n",
    "i = 3\n",
    "primes_num = 3\n",
    "x = 1\n",
    "l = 4\n",
    "while x > 0.1:\n",
    "    i += 2\n",
    "    add_nums += 8\n",
    "    diag_nums = diag_nums + add_nums\n",
    "    primes_num += sum(map(is_prime, diag_nums))\n",
    "    l += 4\n",
    "    x = primes_num/(l + 1)\n",
    "i"
   ]
  },
  {
   "cell_type": "code",
   "execution_count": null,
   "metadata": {},
   "outputs": [
    {
     "name": "stdout",
     "output_type": "stream",
     "text": [
      "An extract taken from the introduction of one of Euler's most celebrated papers, \"De summis serierum reciprocarum\" [On the sums of series of reciprocals]: I have recently found, quite unexpectedly, an elegant expression for the entire sum of this series 1 + 1/4 + 1/9 + 1/16 + etc., which depends on the quadrature of the circle, so that if the true sum of this series is obtained, from it at once the quadrature of the circle follows. Namely, I have found that the sum of this series is a sixth part of the square of the perimeter of the circle whose diameter is 1; or by putting the sum of this series equal to s, it has the ratio sqrt(6) multiplied by s to 1 of the perimeter to the diameter. I will soon show that the sum of this series to be approximately 1.644934066842264364; and from multiplying this number by six, and then taking the square root, the number 3.141592653589793238 is indeed produced, which expresses the perimeter of a circle whose diameter is 1. Following again the same steps by which I had arrived at this sum, I have discovered that the sum of the series 1 + 1/16 + 1/81 + 1/256 + 1/625 + etc. also depends on the quadrature of the circle. Namely, the sum of this multiplied by 90 gives the biquadrate (fourth power) of the circumference of the perimeter of a circle whose diameter is 1. And by similar reasoning I have likewise been able to determine the sums of the subsequent series in which the exponents are even numbers."
     ]
    },
    {
     "data": {
      "text/plain": [
       "129448"
      ]
     },
     "execution_count": 1,
     "metadata": {},
     "output_type": "execute_result"
    }
   ],
   "source": [
    "# 59\n",
    "from collections import Counter\n",
    "from string import ascii_lowercase, ascii_uppercase\n",
    "\n",
    "all_letters = ascii_lowercase + ascii_uppercase\n",
    "\n",
    "\n",
    "with open('files/0059_cipher.txt') as c:\n",
    "    cipher = list(map(lambda x: int(x), c.read().split(',')))\n",
    "\n",
    "key_len = 3\n",
    "key = \"\"\n",
    "\n",
    "cipher_parts = [cipher[i::key_len] for i in range(key_len)]\n",
    "\n",
    "\n",
    "for key_num, cipher_part in enumerate(cipher_parts):\n",
    "    excluded = []\n",
    "    for cipher_letter in cipher_part:\n",
    "        for letter in ascii_lowercase:\n",
    "            if letter in excluded or cipher_letter > 32:\n",
    "                continue\n",
    "            if chr(cipher_letter ^ ord(letter)) not in all_letters:\n",
    "                excluded.append(letter)\n",
    "\n",
    "    not_excluded = []\n",
    "    for letter in ascii_lowercase:\n",
    "        if letter not in excluded:\n",
    "            not_excluded.append(letter)\n",
    "\n",
    "    assert len(not_excluded) == 1\n",
    "\n",
    "    key += not_excluded[0]\n",
    "\n",
    "rez = 0\n",
    "for index, letter in enumerate(cipher):\n",
    "    print(chr(letter ^ ord(key[index % key_len])), end=\"\")\n",
    "    rez += letter ^ ord(key[index % key_len])\n",
    "\n",
    "rez"
   ]
  },
  {
   "cell_type": "code",
   "execution_count": null,
   "metadata": {},
   "outputs": [
    {
     "name": "stderr",
     "output_type": "stream",
     "text": [
      "100%|██████████| 1228/1228 [00:01<00:00, 1161.21it/s]\n",
      "100%|██████████| 1228/1228 [00:02<00:00, 610.41it/s]\n"
     ]
    },
    {
     "data": {
      "text/plain": [
       "26033"
      ]
     },
     "execution_count": 131,
     "metadata": {},
     "output_type": "execute_result"
    }
   ],
   "source": [
    "# 60\n",
    "\n",
    "# slow - need to improve with clique search\n",
    "from tqdm import tqdm\n",
    "\n",
    "primes = open('files/primes10^8.txt', 'r').read().split('\\n')[:-1]\n",
    "primes = list(map(int, primes))\n",
    "primes_less_10000 = [prime for prime in primes if 2 < prime < 10000]\n",
    "min = primes.index(113)\n",
    "primes = set(primes)\n",
    "\n",
    "concatenated_primes = {prime: {prime} for prime in primes_less_10000}\n",
    "\n",
    "for p1 in tqdm(primes_less_10000):\n",
    "    for p2 in primes_less_10000:\n",
    "        if p1 != p2:\n",
    "            if int(str(p1) + str(p2)) in primes and int(str(p2) + str(p1)) in primes:\n",
    "                concatenated_primes[p1].add(p2)\n",
    "                concatenated_primes[p2].add(p1)\n",
    "\n",
    "\n",
    "concatenated_primes_with_5_concats = {}\n",
    "for concatenated1 in tqdm(concatenated_primes):\n",
    "    t = 0\n",
    "    s1 = concatenated_primes[concatenated1]\n",
    "    for concatenated2 in concatenated_primes:\n",
    "        if concatenated1 != concatenated2:\n",
    "            if len(concatenated_primes[concatenated1].intersection(concatenated_primes[concatenated2])) >= 5:\n",
    "                t += 1\n",
    "    if t >= 4:\n",
    "        concatenated_primes_with_5_concats[concatenated1] = concatenated_primes[concatenated1]\n",
    "\n",
    "keys = list(concatenated_primes_with_5_concats.keys())\n",
    "sets = list(concatenated_primes_with_5_concats.values())\n",
    "\n",
    "combs = [{i} for i in range(len(sets))]\n",
    "\n",
    "for i in range(1, 5):\n",
    "    for comb in combs:\n",
    "        if len(comb) == i:\n",
    "            for ind, pset in enumerate(sets):\n",
    "                if ind not in comb:\n",
    "                    presolve = set.intersection(*[sets[j] for j in comb])\n",
    "                    if keys[ind] not in presolve:\n",
    "                        continue\n",
    "                    if len(set.intersection(pset, presolve)) > 4:\n",
    "                        if {*comb, ind} not in combs:\n",
    "                            combs.append({*comb, ind})\n",
    "    combs = [comb for comb in combs if len(comb) > i]\n",
    "\n",
    "\n",
    "combs = [[keys[i] for i in comb] for comb in combs]\n",
    "\n",
    "sum(combs[0])"
   ]
  },
  {
   "cell_type": "code",
   "execution_count": 45,
   "metadata": {},
   "outputs": [
    {
     "name": "stdout",
     "output_type": "stream",
     "text": [
      "28684\n"
     ]
    }
   ],
   "source": [
    "# 61\n",
    "from itertools import permutations\n",
    "triangle = [0]\n",
    "i = 1\n",
    "while (t_i := i*(i+1)//2) < 10000:\n",
    "    triangle.append(t_i)\n",
    "    i += 1\n",
    "\n",
    "polygonal_nums = [[(str(num + triangle[ind] * fig)) for ind, num in enumerate(triangle[1:])\n",
    "                   if 1000 < num + triangle[ind] * fig < 10000] for fig in range(6)]\n",
    "\n",
    "def find_next_num(nums, poly_nums):\n",
    "    if len(poly_nums) == 0:\n",
    "        if nums[-1][2:] == nums[0][:2]:\n",
    "            print(sum(map(int, nums)))\n",
    "            raise\n",
    "        return\n",
    "    for poly_num in poly_nums[0]:\n",
    "        if nums[-1][2:] == poly_num[:2]:\n",
    "            find_next_num(nums + [poly_num], poly_nums[1:])\n",
    "\n",
    "try:\n",
    "    for perm in permutations(polygonal_nums):\n",
    "        for t_i in perm[0]:\n",
    "            find_next_num([t_i], perm[1:])\n",
    "except:\n",
    "    pass"
   ]
  }
 ],
 "metadata": {
  "kernelspec": {
   "display_name": "common",
   "language": "python",
   "name": "python3"
  },
  "language_info": {
   "codemirror_mode": {
    "name": "ipython",
    "version": 3
   },
   "file_extension": ".py",
   "mimetype": "text/x-python",
   "name": "python",
   "nbconvert_exporter": "python",
   "pygments_lexer": "ipython3",
   "version": "3.12.8"
  }
 },
 "nbformat": 4,
 "nbformat_minor": 2
}
