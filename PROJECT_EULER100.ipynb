{
 "cells": [
  {
   "cell_type": "code",
   "execution_count": 4,
   "metadata": {},
   "outputs": [
    {
     "name": "stderr",
     "output_type": "stream",
     "text": [
      "100%|██████████| 999997/999997 [00:03<00:00, 294020.18it/s]\n"
     ]
    },
    {
     "name": "stdout",
     "output_type": "stream",
     "text": [
      "121313\n"
     ]
    }
   ],
   "source": [
    "# 51\n",
    "from functools import cache\n",
    "from tqdm import tqdm\n",
    "\n",
    "primes = [2]\n",
    "for i in tqdm(range(3, 1000000)):\n",
    "    for j in primes:\n",
    "        if i % j == 0:\n",
    "            break\n",
    "        if j > i**0.5:\n",
    "            primes.append(i)\n",
    "            break\n",
    "\n",
    "str_primes = [str(p) for p in primes if 1000000 > p > 100000]\n",
    "\n",
    "\n",
    "class PrefixTree:\n",
    "    def __init__(self):\n",
    "        self.childs: dict = {str(i): None for i in range(10)}\n",
    "        self.is_leaf = False\n",
    "        self.string = None\n",
    "\n",
    "    def build(self, strings, order=0):\n",
    "        if len(strings) == 1:\n",
    "            self.is_leaf = True\n",
    "            self.string = strings[0]\n",
    "            return self\n",
    "        else:\n",
    "            by_number = {str(i): [] for i in range(10)}\n",
    "            for string in strings:\n",
    "                by_number[string[order]].append(string)\n",
    "            for key in by_number:\n",
    "                if by_number[key]:\n",
    "                    self.childs[key] = PrefixTree().build(\n",
    "                        by_number[key], order+1)\n",
    "        return self\n",
    "\n",
    "    @cache\n",
    "    def search(self, pattern: str):\n",
    "        rez = []\n",
    "        if self.is_leaf:\n",
    "            if self.string[-len(pattern):] == pattern or len(pattern) == 0:\n",
    "                return [self.string]\n",
    "            else:\n",
    "                return []\n",
    "        if len(pattern) == 0:\n",
    "            return []\n",
    "        if pattern[0] == \"x\":\n",
    "            for sub_tree_key in self.childs:\n",
    "                if not self.childs[sub_tree_key] is None:\n",
    "                    rez += (self.childs[sub_tree_key].search(\n",
    "                        pattern[1:].replace(\"x\", sub_tree_key)))\n",
    "        else:\n",
    "            if not self.childs[pattern[0]] is None:\n",
    "                rez += (self.childs[pattern[0]].search(pattern[1:]))\n",
    "        return rez\n",
    "\n",
    "\n",
    "t = PrefixTree().build(str_primes)\n",
    "max_seq = []\n",
    "for i in str_primes:\n",
    "    for n in range(5):\n",
    "        for m in range(5):\n",
    "            for k in range(5):\n",
    "                if n > m > k:\n",
    "                    s_str = i[:n] + 'x' + i[n+1:]\n",
    "                    s_str = s_str[:m] + 'x' + s_str[m+1:]\n",
    "                    s_str = s_str[:k] + 'x' + s_str[k+1:]\n",
    "                    rez = t.search(s_str)\n",
    "                    if len(rez) > len(max_seq):\n",
    "                        max_seq = rez\n",
    "print(max_seq[0])"
   ]
  },
  {
   "cell_type": "code",
   "execution_count": 5,
   "metadata": {},
   "outputs": [
    {
     "name": "stdout",
     "output_type": "stream",
     "text": [
      "142857\n"
     ]
    }
   ],
   "source": [
    "# 52\n",
    "for i in range(1, 200000):\n",
    "    nums = []\n",
    "    for j in range(2, 7):\n",
    "        nums.append(set(str(i*j)))\n",
    "    if all([i == nums[0] for i in nums]):\n",
    "        print(i)"
   ]
  },
  {
   "cell_type": "code",
   "execution_count": null,
   "metadata": {},
   "outputs": [
    {
     "data": {
      "text/plain": [
       "4075"
      ]
     },
     "execution_count": 7,
     "metadata": {},
     "output_type": "execute_result"
    }
   ],
   "source": [
    "# 53\n",
    "\n",
    "from math import factorial as f\n",
    "s = 0\n",
    "for i in range(10, 101):\n",
    "    for j in range(0, i):\n",
    "        if f(i)/f(j)/f(i-j) > 10**6:\n",
    "            s += 1\n",
    "s"
   ]
  },
  {
   "cell_type": "code",
   "execution_count": null,
   "metadata": {},
   "outputs": [
    {
     "data": {
      "text/plain": [
       "249"
      ]
     },
     "execution_count": 12,
     "metadata": {},
     "output_type": "execute_result"
    }
   ],
   "source": [
    "# 54\n",
    "l = 0\n",
    "for num in range(10, 10000):\n",
    "    for i in range(51):\n",
    "        num = num + int(str(num)[::-1])\n",
    "        if str(num) == str(num)[::-1]:\n",
    "            break\n",
    "        if i == 50:\n",
    "            l += 1\n",
    "l"
   ]
  },
  {
   "cell_type": "code",
   "execution_count": 6,
   "metadata": {},
   "outputs": [
    {
     "data": {
      "text/plain": [
       "972"
      ]
     },
     "execution_count": 6,
     "metadata": {},
     "output_type": "execute_result"
    }
   ],
   "source": [
    "# 55\n",
    "max = 0\n",
    "for i in range(10, 100):\n",
    "    for j in range(10, 100):\n",
    "        csum = sum(map(int, str(i**j)))\n",
    "        if csum > max:\n",
    "            max = csum\n",
    "max"
   ]
  },
  {
   "cell_type": "code",
   "execution_count": null,
   "metadata": {},
   "outputs": [
    {
     "data": {
      "text/plain": [
       "153"
      ]
     },
     "execution_count": 15,
     "metadata": {},
     "output_type": "execute_result"
    }
   ],
   "source": [
    "# 56\n",
    "def euclid(a, b):\n",
    "    while b:\n",
    "        a, b = b, a % b\n",
    "    return a\n",
    "\n",
    "\n",
    "pairs = []\n",
    "x = (1, 2)\n",
    "n = 0\n",
    "\n",
    "for i in range(1, 1000):\n",
    "    to_add = (x[0]+x[1], x[1])\n",
    "    denomenator = euclid(to_add[0], to_add[1])\n",
    "    to_add = (to_add[0]//denomenator, to_add[1]//denomenator)\n",
    "\n",
    "    pairs.append(to_add)\n",
    "    if len(str(pairs[-1][0])) > len(str(pairs[-1][1])):\n",
    "        n += 1\n",
    "    x = (x[1], x[0]+2*x[1])\n",
    "n"
   ]
  },
  {
   "cell_type": "code",
   "execution_count": null,
   "metadata": {},
   "outputs": [
    {
     "name": "stderr",
     "output_type": "stream",
     "text": [
      "100%|██████████| 999997/999997 [00:03<00:00, 283033.26it/s]\n"
     ]
    },
    {
     "data": {
      "text/plain": [
       "26241"
      ]
     },
     "execution_count": 40,
     "metadata": {},
     "output_type": "execute_result"
    }
   ],
   "source": [
    "# 57\n",
    "from numpy import array\n",
    "from tqdm import tqdm\n",
    "diag_nums = array([3, 5, 7])\n",
    "add_nums = array([2, 4, 6])\n",
    "primes = [2]\n",
    "for i in tqdm(range(3, 1000000)):\n",
    "    for j in primes:\n",
    "        if i % j == 0:\n",
    "            break\n",
    "        if j > i**0.5:\n",
    "            primes.append(i)\n",
    "            break\n",
    "\n",
    "def is_prime(n):\n",
    "    sq = n**0.5\n",
    "    for i in primes:\n",
    "        if n % i == 0:\n",
    "            return False\n",
    "        if i > sq:\n",
    "            return True\n",
    "    return True\n",
    "\n",
    "i = 3\n",
    "primes_num = 3\n",
    "x = 1\n",
    "l = 4\n",
    "while x > 0.1:\n",
    "    i += 2\n",
    "    add_nums += 8\n",
    "    diag_nums = diag_nums + add_nums\n",
    "    primes_num += sum(map(is_prime, diag_nums))\n",
    "    l += 4\n",
    "    x = primes_num/(l + 1)\n",
    "i"
   ]
  },
  {
   "cell_type": "code",
   "execution_count": 1,
   "metadata": {},
   "outputs": [
    {
     "name": "stdout",
     "output_type": "stream",
     "text": [
      "An extract taken from the introduction of one of Euler's most celebrated papers, \"De summis serierum reciprocarum\" [On the sums of series of reciprocals]: I have recently found, quite unexpectedly, an elegant expression for the entire sum of this series 1 + 1/4 + 1/9 + 1/16 + etc., which depends on the quadrature of the circle, so that if the true sum of this series is obtained, from it at once the quadrature of the circle follows. Namely, I have found that the sum of this series is a sixth part of the square of the perimeter of the circle whose diameter is 1; or by putting the sum of this series equal to s, it has the ratio sqrt(6) multiplied by s to 1 of the perimeter to the diameter. I will soon show that the sum of this series to be approximately 1.644934066842264364; and from multiplying this number by six, and then taking the square root, the number 3.141592653589793238 is indeed produced, which expresses the perimeter of a circle whose diameter is 1. Following again the same steps by which I had arrived at this sum, I have discovered that the sum of the series 1 + 1/16 + 1/81 + 1/256 + 1/625 + etc. also depends on the quadrature of the circle. Namely, the sum of this multiplied by 90 gives the biquadrate (fourth power) of the circumference of the perimeter of a circle whose diameter is 1. And by similar reasoning I have likewise been able to determine the sums of the subsequent series in which the exponents are even numbers."
     ]
    },
    {
     "data": {
      "text/plain": [
       "129448"
      ]
     },
     "execution_count": 1,
     "metadata": {},
     "output_type": "execute_result"
    }
   ],
   "source": [
    "#59\n",
    "from collections import Counter\n",
    "from string import ascii_lowercase, ascii_uppercase\n",
    "\n",
    "all_letters = ascii_lowercase + ascii_uppercase\n",
    "\n",
    "\n",
    "with open('0059_cipher.txt') as c:\n",
    "    cipher = list(map(lambda x: int(x), c.read().split(',')))\n",
    "\n",
    "key_len = 3\n",
    "key = \"\"\n",
    "\n",
    "cipher_parts = [cipher[i::key_len] for i in range(key_len)]\n",
    "\n",
    "\n",
    "for key_num, cipher_part in enumerate(cipher_parts):\n",
    "    excluded = []\n",
    "    for cipher_letter in cipher_part:\n",
    "        for letter in ascii_lowercase:\n",
    "            if letter in excluded or cipher_letter > 32:\n",
    "                continue\n",
    "            if chr(cipher_letter ^ ord(letter)) not in all_letters:\n",
    "                excluded.append(letter)\n",
    "\n",
    "    not_excluded = []\n",
    "    for letter in ascii_lowercase:\n",
    "        if letter not in excluded:\n",
    "            not_excluded.append(letter)\n",
    "    \n",
    "\n",
    "    assert len(not_excluded) == 1\n",
    "\n",
    "    key += not_excluded[0]\n",
    "\n",
    "rez = 0\n",
    "for index, letter in enumerate(cipher):\n",
    "    print(chr(letter ^ ord(key[index % key_len])), end = \"\")\n",
    "    rez += letter ^ ord(key[index % key_len])\n",
    "\n",
    "rez\n",
    "\n"
   ]
  },
  {
   "cell_type": "code",
   "execution_count": null,
   "metadata": {},
   "outputs": [],
   "source": []
  }
 ],
 "metadata": {
  "kernelspec": {
   "display_name": "common",
   "language": "python",
   "name": "python3"
  },
  "language_info": {
   "codemirror_mode": {
    "name": "ipython",
    "version": 3
   },
   "file_extension": ".py",
   "mimetype": "text/x-python",
   "name": "python",
   "nbconvert_exporter": "python",
   "pygments_lexer": "ipython3",
   "version": "3.12.7"
  }
 },
 "nbformat": 4,
 "nbformat_minor": 2
}
